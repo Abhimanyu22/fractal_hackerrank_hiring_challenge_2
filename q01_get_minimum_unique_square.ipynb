{
 "cells": [
  {
   "cell_type": "code",
   "execution_count": null,
   "metadata": {},
   "outputs": [],
   "source": [
    "%load q01_get_minimum_unique_square/build.py"
   ]
  }
 ],
 "metadata": {},
 "nbformat": 4,
 "nbformat_minor": 2
}
